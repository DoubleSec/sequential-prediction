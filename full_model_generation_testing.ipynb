{
 "cells": [
  {
   "cell_type": "code",
   "execution_count": 1,
   "metadata": {},
   "outputs": [],
   "source": [
    "from seqpred.data import prep_data, BaseDataset\n",
    "from seqpred.nn import SequentialMargeNet\n",
    "import yaml\n",
    "import torch\n",
    "import polars as pl\n",
    "from morphers.base.categorical import Integerizer\n",
    "\n",
    "checkpoint_path = \"./model/epoch=39-validation_loss=1.731.ckpt\"\n",
    "data_files = [\"./data/2023_data.parquet\"]"
   ]
  },
  {
   "cell_type": "code",
   "execution_count": 6,
   "metadata": {},
   "outputs": [],
   "source": [
    "def unmorph(pitches, morphers):\n",
    "    unmorphed_pitches = {}\n",
    "    for pk, pv in pitches.items():\n",
    "        if isinstance(morphers[pk], Integerizer):\n",
    "            reverse_vocab = {\n",
    "                v: k for k, v in morphers[pk].vocab.items()\n",
    "            }\n",
    "            vector = pv.tolist()\n",
    "            unmorphed_pitches[pk] = [reverse_vocab.get(item, \"<NONE>\") for item in vector]\n",
    "        else:\n",
    "            raise NotImplementedError(\"Later\")\n",
    "    return unmorphed_pitches"
   ]
  },
  {
   "cell_type": "code",
   "execution_count": 3,
   "metadata": {},
   "outputs": [],
   "source": [
    "\n",
    "with open(\"cfg/config.yaml\", \"r\") as f:\n",
    "    config = yaml.load(f, Loader=yaml.CLoader)\n",
    "\n",
    "model = SequentialMargeNet.load_from_checkpoint(checkpoint_path)\n",
    "\n",
    "morpher_dict = model.hparams[\"morphers\"]\n",
    "\n",
    "data, morphers  = prep_data(\n",
    "    data_files=data_files,\n",
    "    rename=config[\"rename\"],\n",
    "    morphers=morpher_dict,\n",
    ")\n",
    "ds = BaseDataset(\n",
    "    data,\n",
    "    morpher_dict,\n",
    "    model.hparams[\"max_length\"],\n",
    ")"
   ]
  },
  {
   "cell_type": "code",
   "execution_count": 7,
   "metadata": {},
   "outputs": [
    {
     "name": "stdout",
     "output_type": "stream",
     "text": [
      "Reached end of game: generated 269 pitches\n"
     ]
    }
   ],
   "source": [
    "example = ds[900]\n",
    "after_n_pitches = 120\n",
    "max_to_generate = 300\n",
    "\n",
    "with torch.inference_mode():\n",
    "    # noooooooo\n",
    "    inning_mask = (\n",
    "        torch.arange(example[\"end_of_inning\"].shape[0]) < after_n_pitches\n",
    "    ) & ~torch.isinf(example[\"pad_mask\"])\n",
    "\n",
    "    x = {\n",
    "        k: v[inning_mask].to(model.device).unsqueeze(0)\n",
    "        for k, v in example.items()\n",
    "        if isinstance(v, torch.Tensor)\n",
    "    }\n",
    "\n",
    "    for i in range(max_to_generate):\n",
    "        generated_pitch = model.generate_one(x, temperature=1.0)\n",
    "        x = {\n",
    "            k: torch.cat([v, generated_pitch[k].unsqueeze(0)], dim=1)\n",
    "            for k, v in x.items()\n",
    "            if k != \"pad_mask\"\n",
    "        }\n",
    "        if generated_pitch[\"end_of_game\"].item() == 1:\n",
    "            print(f\"Reached end of game: generated {i+1} pitches\")\n",
    "            break\n",
    "\n",
    "    context = {k: v[:, :after_n_pitches] for k, v in x.items()}\n",
    "    generated = {k: v[:, after_n_pitches:] for k, v in x.items()}\n",
    "\n",
    "context_df = pl.DataFrame(\n",
    "    unmorph(\n",
    "        {k: v.squeeze().cpu().numpy() for k, v in context.items()},\n",
    "        morpher_dict,\n",
    "    )\n",
    ")\n",
    "generated_df = pl.DataFrame(\n",
    "    unmorph(\n",
    "        {k: v.squeeze().cpu().numpy() for k, v in generated.items()},\n",
    "        morpher_dict,\n",
    "    )\n",
    ")"
   ]
  },
  {
   "cell_type": "code",
   "execution_count": null,
   "metadata": {},
   "outputs": [],
   "source": []
  }
 ],
 "metadata": {
  "kernelspec": {
   "display_name": "seqpred",
   "language": "python",
   "name": "python3"
  },
  "language_info": {
   "codemirror_mode": {
    "name": "ipython",
    "version": 3
   },
   "file_extension": ".py",
   "mimetype": "text/x-python",
   "name": "python",
   "nbconvert_exporter": "python",
   "pygments_lexer": "ipython3",
   "version": "3.10.14"
  }
 },
 "nbformat": 4,
 "nbformat_minor": 2
}
