{
 "cells": [
  {
   "cell_type": "code",
   "execution_count": 1,
   "metadata": {},
   "outputs": [],
   "source": [
    "import yaml\n",
    "import torch\n",
    "import lightning.pytorch as pl\n",
    "import polars\n",
    "\n",
    "from seqpred.data import prep_data, BaseDataset, load_morphers\n",
    "from seqpred.quantile_morpher import Quantiler, Integerizer\n",
    "from seqpred.nn import MargeNet\n",
    "\n",
    "with open(\"cfg/config.yaml\") as f:\n",
    "    config = yaml.load(f, Loader=yaml.CLoader)\n",
    "\n",
    "inputs = {col: tp for [col, tp] in config[\"features\"]}"
   ]
  },
  {
   "cell_type": "code",
   "execution_count": 2,
   "metadata": {},
   "outputs": [],
   "source": [
    "morpher_dispatch = {\n",
    "    \"numeric\": Quantiler,\n",
    "    \"categorical\": Integerizer,\n",
    "}\n",
    "\n",
    "morphers = load_morphers(\n",
    "    \"model/morphers.yaml\",\n",
    "    inputs,\n",
    "    morpher_dispatch,\n",
    ")\n",
    "\n",
    "net = MargeNet.load_from_checkpoint(\"model/latest.ckpt\")\n",
    "gen_head = net.generator_head\n",
    "\n",
    "# Set up data\n",
    "base_data, _ = prep_data(\n",
    "    data_files=[config[\"train_data_path\"]],\n",
    "    key_cols=config[\"keys\"],\n",
    "    morphers=morphers,\n",
    ")\n",
    "ds = BaseDataset(\n",
    "    base_data,\n",
    "    morphers,\n",
    "    key_cols=config[\"keys\"],\n",
    "    return_keys=False,\n",
    ")"
   ]
  },
  {
   "cell_type": "code",
   "execution_count": 8,
   "metadata": {},
   "outputs": [
    {
     "name": "stdout",
     "output_type": "stream",
     "text": [
      "Context: 330 | 1\n"
     ]
    }
   ],
   "source": [
    "i = 10\n",
    "n = 256\n",
    "pitcher_id = base_data.row(i, named=True)[\"pitcher\"]\n",
    "stand_val = base_data.row(i, named=True)[\"stand\"]\n",
    "\n",
    "pitcher = ds[i][\"pitcher\"].unsqueeze(0).expand(n)\n",
    "stand = ds[i][\"stand\"].unsqueeze(0).expand(n)\n",
    "\n",
    "print(f\"Context: {pitcher_id} | {stand_val}\")\n",
    "\n",
    "with torch.inference_mode():\n",
    "    gen_pitches = net.generate(\n",
    "        {\"pitcher\": pitcher, \"stand\": stand},\n",
    "        morphers=morphers,\n",
    "    )\n",
    "    \n",
    "\n",
    "generated_df = polars.DataFrame(\n",
    "    {\n",
    "        feat: v.view(-1).numpy()\n",
    "        for feat, v in gen_pitches.items()\n",
    "    }\n",
    ")"
   ]
  },
  {
   "cell_type": "code",
   "execution_count": 9,
   "metadata": {},
   "outputs": [
    {
     "data": {
      "text/html": [
       "<div><style>\n",
       ".dataframe > thead > tr,\n",
       ".dataframe > tbody > tr {\n",
       "  text-align: right;\n",
       "  white-space: pre-wrap;\n",
       "}\n",
       "</style>\n",
       "<small>shape: (3, 8)</small><table border=\"1\" class=\"dataframe\"><thead><tr><th>pitch_type</th><th>count</th><th>avg_pitch_type</th><th>avg_release_speed</th><th>avg_pfx_x</th><th>avg_pfx_z</th><th>avg_plate_x</th><th>avg_plate_z</th></tr><tr><td>i64</td><td>f64</td><td>f64</td><td>f32</td><td>f32</td><td>f32</td><td>f32</td><td>f32</td></tr></thead><tbody><tr><td>7</td><td>0.089844</td><td>7.0</td><td>0.4375</td><td>0.558424</td><td>0.246943</td><td>0.628397</td><td>0.382473</td></tr><tr><td>12</td><td>0.324219</td><td>12.0</td><td>0.912556</td><td>0.383095</td><td>0.924322</td><td>0.460655</td><td>0.689006</td></tr><tr><td>16</td><td>0.5859375</td><td>16.0</td><td>0.290885</td><td>0.83724</td><td>0.035052</td><td>0.52125</td><td>0.425677</td></tr></tbody></table></div>"
      ],
      "text/plain": [
       "shape: (3, 8)\n",
       "┌────────────┬───────────┬────────────┬────────────┬───────────┬───────────┬───────────┬───────────┐\n",
       "│ pitch_type ┆ count     ┆ avg_pitch_ ┆ avg_releas ┆ avg_pfx_x ┆ avg_pfx_z ┆ avg_plate ┆ avg_plate │\n",
       "│ ---        ┆ ---       ┆ type       ┆ e_speed    ┆ ---       ┆ ---       ┆ _x        ┆ _z        │\n",
       "│ i64        ┆ f64       ┆ ---        ┆ ---        ┆ f32       ┆ f32       ┆ ---       ┆ ---       │\n",
       "│            ┆           ┆ f64        ┆ f32        ┆           ┆           ┆ f32       ┆ f32       │\n",
       "╞════════════╪═══════════╪════════════╪════════════╪═══════════╪═══════════╪═══════════╪═══════════╡\n",
       "│ 7          ┆ 0.089844  ┆ 7.0        ┆ 0.4375     ┆ 0.558424  ┆ 0.246943  ┆ 0.628397  ┆ 0.382473  │\n",
       "│ 12         ┆ 0.324219  ┆ 12.0       ┆ 0.912556   ┆ 0.383095  ┆ 0.924322  ┆ 0.460655  ┆ 0.689006  │\n",
       "│ 16         ┆ 0.5859375 ┆ 16.0       ┆ 0.290885   ┆ 0.83724   ┆ 0.035052  ┆ 0.52125   ┆ 0.425677  │\n",
       "└────────────┴───────────┴────────────┴────────────┴───────────┴───────────┴───────────┴───────────┘"
      ]
     },
     "metadata": {},
     "output_type": "display_data"
    },
    {
     "data": {
      "text/html": [
       "<div><style>\n",
       ".dataframe > thead > tr,\n",
       ".dataframe > tbody > tr {\n",
       "  text-align: right;\n",
       "  white-space: pre-wrap;\n",
       "}\n",
       "</style>\n",
       "<small>shape: (3, 8)</small><table border=\"1\" class=\"dataframe\"><thead><tr><th>pitch_type</th><th>count</th><th>avg_pitch_type</th><th>avg_release_speed</th><th>avg_pfx_x</th><th>avg_pfx_z</th><th>avg_plate_x</th><th>avg_plate_z</th></tr><tr><td>i64</td><td>f64</td><td>f64</td><td>f32</td><td>f32</td><td>f32</td><td>f32</td><td>f32</td></tr></thead><tbody><tr><td>7</td><td>0.146402</td><td>7.0</td><td>0.424391</td><td>0.560117</td><td>0.250795</td><td>0.633475</td><td>0.448226</td></tr><tr><td>12</td><td>0.42928</td><td>12.0</td><td>0.920114</td><td>0.382316</td><td>0.926572</td><td>0.465544</td><td>0.656702</td></tr><tr><td>16</td><td>0.424318</td><td>16.0</td><td>0.272432</td><td>0.847496</td><td>0.035499</td><td>0.497761</td><td>0.432246</td></tr></tbody></table></div>"
      ],
      "text/plain": [
       "shape: (3, 8)\n",
       "┌────────────┬──────────┬────────────┬────────────┬───────────┬───────────┬────────────┬───────────┐\n",
       "│ pitch_type ┆ count    ┆ avg_pitch_ ┆ avg_releas ┆ avg_pfx_x ┆ avg_pfx_z ┆ avg_plate_ ┆ avg_plate │\n",
       "│ ---        ┆ ---      ┆ type       ┆ e_speed    ┆ ---       ┆ ---       ┆ x          ┆ _z        │\n",
       "│ i64        ┆ f64      ┆ ---        ┆ ---        ┆ f32       ┆ f32       ┆ ---        ┆ ---       │\n",
       "│            ┆          ┆ f64        ┆ f32        ┆           ┆           ┆ f32        ┆ f32       │\n",
       "╞════════════╪══════════╪════════════╪════════════╪═══════════╪═══════════╪════════════╪═══════════╡\n",
       "│ 7          ┆ 0.146402 ┆ 7.0        ┆ 0.424391   ┆ 0.560117  ┆ 0.250795  ┆ 0.633475   ┆ 0.448226  │\n",
       "│ 12         ┆ 0.42928  ┆ 12.0       ┆ 0.920114   ┆ 0.382316  ┆ 0.926572  ┆ 0.465544   ┆ 0.656702  │\n",
       "│ 16         ┆ 0.424318 ┆ 16.0       ┆ 0.272432   ┆ 0.847496  ┆ 0.035499  ┆ 0.497761   ┆ 0.432246  │\n",
       "└────────────┴──────────┴────────────┴────────────┴───────────┴───────────┴────────────┴───────────┘"
      ]
     },
     "metadata": {},
     "output_type": "display_data"
    }
   ],
   "source": [
    "gen_dist = generated_df.group_by([\"pitch_type\"]).agg(\n",
    "    count=polars.col(\"release_speed\").count() / len(generated_df),\n",
    "    **{\n",
    "        f\"avg_{feat}\": polars.col(feat).mean() \n",
    "        for feat in morphers if feat not in config[\"context_features\"]\n",
    "    }\n",
    ").sort(\"pitch_type\")\n",
    "\n",
    "pp = base_data.filter(\n",
    "    polars.col(\"pitcher\") == pitcher_id,\n",
    "    polars.col(\"stand\") == stand_val,\n",
    ")\n",
    "real_dist = pp.group_by([\"pitch_type\"]).agg(\n",
    "    count=polars.col(\"release_speed\").count() / len(pp),\n",
    "    **{\n",
    "        f\"avg_{feat}\": polars.col(feat).mean() \n",
    "        for feat in morphers if feat not in config[\"context_features\"]\n",
    "    }\n",
    ").sort(\"pitch_type\")\n",
    "\n",
    "display(gen_dist)\n",
    "display(real_dist)"
   ]
  },
  {
   "cell_type": "code",
   "execution_count": null,
   "metadata": {},
   "outputs": [],
   "source": []
  }
 ],
 "metadata": {
  "kernelspec": {
   "display_name": "cloudspace",
   "language": "python",
   "name": "python3"
  },
  "language_info": {
   "codemirror_mode": {
    "name": "ipython",
    "version": 3
   },
   "file_extension": ".py",
   "mimetype": "text/x-python",
   "name": "python",
   "nbconvert_exporter": "python",
   "pygments_lexer": "ipython3",
   "version": "3.10.10"
  }
 },
 "nbformat": 4,
 "nbformat_minor": 2
}
