{
 "cells": [
  {
   "cell_type": "code",
   "execution_count": 1,
   "metadata": {},
   "outputs": [],
   "source": [
    "import yaml\n",
    "import torch\n",
    "import lightning.pytorch as pl\n",
    "import polars\n",
    "\n",
    "from seqpred.data import prep_data, BaseDataset, load_morphers\n",
    "from seqpred.special_morpher import Quantiler, Integerizer, MixtureLossNormalizer\n",
    "from seqpred.nn import MargeNet\n",
    "\n",
    "with open(\"cfg/config.yaml\") as f:\n",
    "    config = yaml.load(f, Loader=yaml.CLoader)\n",
    "\n",
    "inputs = {col: tp for [col, tp] in config[\"features\"]}"
   ]
  },
  {
   "cell_type": "code",
   "execution_count": 2,
   "metadata": {},
   "outputs": [],
   "source": [
    "morpher_dispatch = {\n",
    "    \"numeric\": Quantiler,\n",
    "    \"categorical\": Integerizer,\n",
    "}\n",
    "\n",
    "morphers = load_morphers(\n",
    "    \"model/morphers.yaml\",\n",
    "    inputs,\n",
    "    morpher_dispatch,\n",
    ")\n",
    "\n",
    "net = MargeNet.load_from_checkpoint(\"model/latest.ckpt\")\n",
    "gen_head = net.generator_head\n",
    "\n",
    "# Set up data\n",
    "base_data, _ = prep_data(\n",
    "    data_files=[config[\"train_data_path\"]],\n",
    "    key_cols=config[\"keys\"],\n",
    "    morphers=morphers,\n",
    ")\n",
    "ds = BaseDataset(\n",
    "    base_data,\n",
    "    morphers,\n",
    "    key_cols=config[\"keys\"],\n",
    "    return_keys=False,\n",
    ")"
   ]
  },
  {
   "cell_type": "code",
   "execution_count": 3,
   "metadata": {},
   "outputs": [
    {
     "name": "stdout",
     "output_type": "stream",
     "text": [
      "Context: 1202 | 0\n"
     ]
    }
   ],
   "source": [
    "i = 800\n",
    "n = 256\n",
    "pitcher_id = base_data.row(i, named=True)[\"pitcher\"]\n",
    "stand_val = base_data.row(i, named=True)[\"stand\"]\n",
    "\n",
    "pitcher = ds[i][\"pitcher\"].unsqueeze(0).expand(n)\n",
    "stand = ds[i][\"stand\"].unsqueeze(0).expand(n)\n",
    "\n",
    "print(f\"Context: {pitcher_id} | {stand_val}\")\n",
    "\n",
    "with torch.inference_mode():\n",
    "    gen_pitches = net.generate(\n",
    "        {\"pitcher\": pitcher, \"stand\": stand},\n",
    "        temperature=1.0,\n",
    "    )\n",
    "    \n",
    "generated_df = polars.DataFrame(\n",
    "    {\n",
    "        feat: v.view(-1).numpy()\n",
    "        for feat, v in gen_pitches.items()\n",
    "    }\n",
    ")"
   ]
  },
  {
   "cell_type": "code",
   "execution_count": 4,
   "metadata": {},
   "outputs": [
    {
     "data": {
      "text/html": [
       "<div><style>\n",
       ".dataframe > thead > tr,\n",
       ".dataframe > tbody > tr {\n",
       "  text-align: right;\n",
       "  white-space: pre-wrap;\n",
       "}\n",
       "</style>\n",
       "<small>shape: (5, 8)</small><table border=\"1\" class=\"dataframe\"><thead><tr><th>pitch_type</th><th>count</th><th>avg_pitch_type</th><th>avg_release_speed</th><th>avg_pfx_x</th><th>avg_pfx_z</th><th>avg_plate_x</th><th>avg_plate_z</th></tr><tr><td>i64</td><td>f64</td><td>f64</td><td>f32</td><td>f32</td><td>f32</td><td>f32</td><td>f32</td></tr></thead><tbody><tr><td>1</td><td>0.175781</td><td>1.0</td><td>0.336458</td><td>0.091319</td><td>0.336458</td><td>0.349479</td><td>0.319792</td></tr><tr><td>7</td><td>0.503906</td><td>7.0</td><td>0.722565</td><td>0.37718</td><td>0.794937</td><td>0.48274</td><td>0.65298</td></tr><tr><td>8</td><td>0.105469</td><td>8.0</td><td>0.054398</td><td>0.872975</td><td>0.061632</td><td>0.542245</td><td>0.324074</td></tr><tr><td>10</td><td>0.1640625</td><td>10.0</td><td>0.209635</td><td>0.84654</td><td>0.429315</td><td>0.62314</td><td>0.34933</td></tr><tr><td>12</td><td>0.050781</td><td>12.0</td><td>0.655048</td><td>0.105168</td><td>0.46875</td><td>0.30649</td><td>0.433293</td></tr></tbody></table></div>"
      ],
      "text/plain": [
       "shape: (5, 8)\n",
       "┌────────────┬───────────┬────────────┬────────────┬───────────┬───────────┬───────────┬───────────┐\n",
       "│ pitch_type ┆ count     ┆ avg_pitch_ ┆ avg_releas ┆ avg_pfx_x ┆ avg_pfx_z ┆ avg_plate ┆ avg_plate │\n",
       "│ ---        ┆ ---       ┆ type       ┆ e_speed    ┆ ---       ┆ ---       ┆ _x        ┆ _z        │\n",
       "│ i64        ┆ f64       ┆ ---        ┆ ---        ┆ f32       ┆ f32       ┆ ---       ┆ ---       │\n",
       "│            ┆           ┆ f64        ┆ f32        ┆           ┆           ┆ f32       ┆ f32       │\n",
       "╞════════════╪═══════════╪════════════╪════════════╪═══════════╪═══════════╪═══════════╪═══════════╡\n",
       "│ 1          ┆ 0.175781  ┆ 1.0        ┆ 0.336458   ┆ 0.091319  ┆ 0.336458  ┆ 0.349479  ┆ 0.319792  │\n",
       "│ 7          ┆ 0.503906  ┆ 7.0        ┆ 0.722565   ┆ 0.37718   ┆ 0.794937  ┆ 0.48274   ┆ 0.65298   │\n",
       "│ 8          ┆ 0.105469  ┆ 8.0        ┆ 0.054398   ┆ 0.872975  ┆ 0.061632  ┆ 0.542245  ┆ 0.324074  │\n",
       "│ 10         ┆ 0.1640625 ┆ 10.0       ┆ 0.209635   ┆ 0.84654   ┆ 0.429315  ┆ 0.62314   ┆ 0.34933   │\n",
       "│ 12         ┆ 0.050781  ┆ 12.0       ┆ 0.655048   ┆ 0.105168  ┆ 0.46875   ┆ 0.30649   ┆ 0.433293  │\n",
       "└────────────┴───────────┴────────────┴────────────┴───────────┴───────────┴───────────┴───────────┘"
      ]
     },
     "metadata": {},
     "output_type": "display_data"
    },
    {
     "data": {
      "text/html": [
       "<div><style>\n",
       ".dataframe > thead > tr,\n",
       ".dataframe > tbody > tr {\n",
       "  text-align: right;\n",
       "  white-space: pre-wrap;\n",
       "}\n",
       "</style>\n",
       "<small>shape: (5, 8)</small><table border=\"1\" class=\"dataframe\"><thead><tr><th>pitch_type</th><th>count</th><th>avg_pitch_type</th><th>avg_release_speed</th><th>avg_pfx_x</th><th>avg_pfx_z</th><th>avg_plate_x</th><th>avg_plate_z</th></tr><tr><td>i64</td><td>f64</td><td>f64</td><td>f32</td><td>f32</td><td>f32</td><td>f32</td><td>f32</td></tr></thead><tbody><tr><td>1</td><td>0.214363</td><td>1.0</td><td>0.341926</td><td>0.091569</td><td>0.300722</td><td>0.367663</td><td>0.346804</td></tr><tr><td>7</td><td>0.460283</td><td>7.0</td><td>0.715407</td><td>0.378712</td><td>0.777962</td><td>0.459035</td><td>0.646554</td></tr><tr><td>8</td><td>0.092492</td><td>8.0</td><td>0.051287</td><td>0.874632</td><td>0.061857</td><td>0.532812</td><td>0.379687</td></tr><tr><td>10</td><td>0.150163</td><td>10.0</td><td>0.202389</td><td>0.849864</td><td>0.402683</td><td>0.506737</td><td>0.356261</td></tr><tr><td>12</td><td>0.082699</td><td>12.0</td><td>0.676398</td><td>0.09817</td><td>0.462788</td><td>0.285156</td><td>0.404811</td></tr></tbody></table></div>"
      ],
      "text/plain": [
       "shape: (5, 8)\n",
       "┌────────────┬──────────┬────────────┬────────────┬───────────┬───────────┬────────────┬───────────┐\n",
       "│ pitch_type ┆ count    ┆ avg_pitch_ ┆ avg_releas ┆ avg_pfx_x ┆ avg_pfx_z ┆ avg_plate_ ┆ avg_plate │\n",
       "│ ---        ┆ ---      ┆ type       ┆ e_speed    ┆ ---       ┆ ---       ┆ x          ┆ _z        │\n",
       "│ i64        ┆ f64      ┆ ---        ┆ ---        ┆ f32       ┆ f32       ┆ ---        ┆ ---       │\n",
       "│            ┆          ┆ f64        ┆ f32        ┆           ┆           ┆ f32        ┆ f32       │\n",
       "╞════════════╪══════════╪════════════╪════════════╪═══════════╪═══════════╪════════════╪═══════════╡\n",
       "│ 1          ┆ 0.214363 ┆ 1.0        ┆ 0.341926   ┆ 0.091569  ┆ 0.300722  ┆ 0.367663   ┆ 0.346804  │\n",
       "│ 7          ┆ 0.460283 ┆ 7.0        ┆ 0.715407   ┆ 0.378712  ┆ 0.777962  ┆ 0.459035   ┆ 0.646554  │\n",
       "│ 8          ┆ 0.092492 ┆ 8.0        ┆ 0.051287   ┆ 0.874632  ┆ 0.061857  ┆ 0.532812   ┆ 0.379687  │\n",
       "│ 10         ┆ 0.150163 ┆ 10.0       ┆ 0.202389   ┆ 0.849864  ┆ 0.402683  ┆ 0.506737   ┆ 0.356261  │\n",
       "│ 12         ┆ 0.082699 ┆ 12.0       ┆ 0.676398   ┆ 0.09817   ┆ 0.462788  ┆ 0.285156   ┆ 0.404811  │\n",
       "└────────────┴──────────┴────────────┴────────────┴───────────┴───────────┴────────────┴───────────┘"
      ]
     },
     "metadata": {},
     "output_type": "display_data"
    }
   ],
   "source": [
    "gen_dist = generated_df.group_by([\"pitch_type\"]).agg(\n",
    "    count=polars.col(\"release_speed\").count() / len(generated_df),\n",
    "    **{\n",
    "        f\"avg_{feat}\": polars.col(feat).mean() \n",
    "        for feat in morphers if feat not in config[\"context_features\"]\n",
    "    }\n",
    ").sort(\"pitch_type\")\n",
    "\n",
    "pp = base_data.filter(\n",
    "    polars.col(\"pitcher\") == pitcher_id,\n",
    "    polars.col(\"stand\") == stand_val,\n",
    ")\n",
    "real_dist = pp.group_by([\"pitch_type\"]).agg(\n",
    "    count=polars.col(\"release_speed\").count() / len(pp),\n",
    "    **{\n",
    "        f\"avg_{feat}\": polars.col(feat).mean() \n",
    "        for feat in morphers if feat not in config[\"context_features\"]\n",
    "    }\n",
    ").sort(\"pitch_type\")\n",
    "\n",
    "display(gen_dist)\n",
    "display(real_dist)"
   ]
  },
  {
   "cell_type": "code",
   "execution_count": 5,
   "metadata": {},
   "outputs": [
    {
     "data": {
      "text/html": [
       "<div><style>\n",
       ".dataframe > thead > tr,\n",
       ".dataframe > tbody > tr {\n",
       "  text-align: right;\n",
       "  white-space: pre-wrap;\n",
       "}\n",
       "</style>\n",
       "<small>shape: (5, 7)</small><table border=\"1\" class=\"dataframe\"><thead><tr><th>pitch_type</th><th>count</th><th>avg_speed</th><th>min_speed</th><th>speed_25</th><th>speed_75</th><th>max_speed</th></tr><tr><td>i64</td><td>f64</td><td>f32</td><td>f32</td><td>f32</td><td>f32</td><td>f32</td></tr></thead><tbody><tr><td>1</td><td>0.175781</td><td>0.336458</td><td>0.1484375</td><td>0.3125</td><td>0.375</td><td>0.4453125</td></tr><tr><td>7</td><td>0.503906</td><td>0.722565</td><td>0.546875</td><td>0.6640625</td><td>0.765625</td><td>0.921875</td></tr><tr><td>8</td><td>0.105469</td><td>0.054398</td><td>0.015625</td><td>0.0390625</td><td>0.0703125</td><td>0.1484375</td></tr><tr><td>10</td><td>0.1640625</td><td>0.209635</td><td>0.0703125</td><td>0.1796875</td><td>0.25</td><td>0.3046875</td></tr><tr><td>12</td><td>0.050781</td><td>0.655048</td><td>0.484375</td><td>0.640625</td><td>0.6953125</td><td>0.7109375</td></tr></tbody></table></div>"
      ],
      "text/plain": [
       "shape: (5, 7)\n",
       "┌────────────┬───────────┬───────────┬───────────┬───────────┬───────────┬───────────┐\n",
       "│ pitch_type ┆ count     ┆ avg_speed ┆ min_speed ┆ speed_25  ┆ speed_75  ┆ max_speed │\n",
       "│ ---        ┆ ---       ┆ ---       ┆ ---       ┆ ---       ┆ ---       ┆ ---       │\n",
       "│ i64        ┆ f64       ┆ f32       ┆ f32       ┆ f32       ┆ f32       ┆ f32       │\n",
       "╞════════════╪═══════════╪═══════════╪═══════════╪═══════════╪═══════════╪═══════════╡\n",
       "│ 1          ┆ 0.175781  ┆ 0.336458  ┆ 0.1484375 ┆ 0.3125    ┆ 0.375     ┆ 0.4453125 │\n",
       "│ 7          ┆ 0.503906  ┆ 0.722565  ┆ 0.546875  ┆ 0.6640625 ┆ 0.765625  ┆ 0.921875  │\n",
       "│ 8          ┆ 0.105469  ┆ 0.054398  ┆ 0.015625  ┆ 0.0390625 ┆ 0.0703125 ┆ 0.1484375 │\n",
       "│ 10         ┆ 0.1640625 ┆ 0.209635  ┆ 0.0703125 ┆ 0.1796875 ┆ 0.25      ┆ 0.3046875 │\n",
       "│ 12         ┆ 0.050781  ┆ 0.655048  ┆ 0.484375  ┆ 0.640625  ┆ 0.6953125 ┆ 0.7109375 │\n",
       "└────────────┴───────────┴───────────┴───────────┴───────────┴───────────┴───────────┘"
      ]
     },
     "metadata": {},
     "output_type": "display_data"
    },
    {
     "data": {
      "text/html": [
       "<div><style>\n",
       ".dataframe > thead > tr,\n",
       ".dataframe > tbody > tr {\n",
       "  text-align: right;\n",
       "  white-space: pre-wrap;\n",
       "}\n",
       "</style>\n",
       "<small>shape: (5, 7)</small><table border=\"1\" class=\"dataframe\"><thead><tr><th>pitch_type</th><th>count</th><th>avg_speed</th><th>min_speed</th><th>speed_25</th><th>speed_75</th><th>max_speed</th></tr><tr><td>i64</td><td>f64</td><td>f32</td><td>f32</td><td>f32</td><td>f32</td><td>f32</td></tr></thead><tbody><tr><td>1</td><td>0.214363</td><td>0.341926</td><td>0.1796875</td><td>0.3046875</td><td>0.3828125</td><td>0.5234375</td></tr><tr><td>7</td><td>0.460283</td><td>0.715407</td><td>0.5546875</td><td>0.671875</td><td>0.7578125</td><td>0.8828125</td></tr><tr><td>8</td><td>0.092492</td><td>0.051287</td><td>0.015625</td><td>0.0390625</td><td>0.0625</td><td>0.1171875</td></tr><tr><td>10</td><td>0.150163</td><td>0.202389</td><td>0.046875</td><td>0.1640625</td><td>0.2421875</td><td>0.3359375</td></tr><tr><td>12</td><td>0.082699</td><td>0.676398</td><td>0.5078125</td><td>0.640625</td><td>0.71875</td><td>0.8046875</td></tr></tbody></table></div>"
      ],
      "text/plain": [
       "shape: (5, 7)\n",
       "┌────────────┬──────────┬───────────┬───────────┬───────────┬───────────┬───────────┐\n",
       "│ pitch_type ┆ count    ┆ avg_speed ┆ min_speed ┆ speed_25  ┆ speed_75  ┆ max_speed │\n",
       "│ ---        ┆ ---      ┆ ---       ┆ ---       ┆ ---       ┆ ---       ┆ ---       │\n",
       "│ i64        ┆ f64      ┆ f32       ┆ f32       ┆ f32       ┆ f32       ┆ f32       │\n",
       "╞════════════╪══════════╪═══════════╪═══════════╪═══════════╪═══════════╪═══════════╡\n",
       "│ 1          ┆ 0.214363 ┆ 0.341926  ┆ 0.1796875 ┆ 0.3046875 ┆ 0.3828125 ┆ 0.5234375 │\n",
       "│ 7          ┆ 0.460283 ┆ 0.715407  ┆ 0.5546875 ┆ 0.671875  ┆ 0.7578125 ┆ 0.8828125 │\n",
       "│ 8          ┆ 0.092492 ┆ 0.051287  ┆ 0.015625  ┆ 0.0390625 ┆ 0.0625    ┆ 0.1171875 │\n",
       "│ 10         ┆ 0.150163 ┆ 0.202389  ┆ 0.046875  ┆ 0.1640625 ┆ 0.2421875 ┆ 0.3359375 │\n",
       "│ 12         ┆ 0.082699 ┆ 0.676398  ┆ 0.5078125 ┆ 0.640625  ┆ 0.71875   ┆ 0.8046875 │\n",
       "└────────────┴──────────┴───────────┴───────────┴───────────┴───────────┴───────────┘"
      ]
     },
     "metadata": {},
     "output_type": "display_data"
    }
   ],
   "source": [
    "gen_dist = generated_df.group_by([\"pitch_type\"]).agg(\n",
    "    count=polars.col(\"release_speed\").count() / len(generated_df),\n",
    "    avg_speed=polars.col(\"release_speed\").mean(),\n",
    "    min_speed=polars.col(\"release_speed\").min(),\n",
    "    speed_25=polars.col(\"release_speed\").quantile(0.25),\n",
    "    speed_75=polars.col(\"release_speed\").quantile(0.75),\n",
    "    max_speed=polars.col(\"release_speed\").max(),\n",
    ").sort(\"pitch_type\")\n",
    "\n",
    "real_dist = pp.group_by([\"pitch_type\"]).agg(\n",
    "    count=polars.col(\"release_speed\").count() / len(pp),\n",
    "    avg_speed=polars.col(\"release_speed\").mean(),\n",
    "    min_speed=polars.col(\"release_speed\").min(),\n",
    "    speed_25=polars.col(\"release_speed\").quantile(0.25),\n",
    "    speed_75=polars.col(\"release_speed\").quantile(0.75),\n",
    "    max_speed=polars.col(\"release_speed\").max(),\n",
    ").sort(\"pitch_type\")\n",
    "\n",
    "display(gen_dist)\n",
    "display(real_dist)"
   ]
  },
  {
   "cell_type": "code",
   "execution_count": null,
   "metadata": {},
   "outputs": [],
   "source": []
  }
 ],
 "metadata": {
  "kernelspec": {
   "display_name": "cloudspace",
   "language": "python",
   "name": "python3"
  },
  "language_info": {
   "codemirror_mode": {
    "name": "ipython",
    "version": 3
   },
   "file_extension": ".py",
   "mimetype": "text/x-python",
   "name": "python",
   "nbconvert_exporter": "python",
   "pygments_lexer": "ipython3",
   "version": "3.10.10"
  }
 },
 "nbformat": 4,
 "nbformat_minor": 2
}
