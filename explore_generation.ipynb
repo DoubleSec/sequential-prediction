{
 "cells": [
  {
   "cell_type": "code",
   "execution_count": 14,
   "metadata": {},
   "outputs": [],
   "source": [
    "import yaml\n",
    "import torch\n",
    "import lightning.pytorch as pl\n",
    "import polars\n",
    "\n",
    "from seqpred.data import prep_data, BaseDataset, load_morphers\n",
    "from seqpred.quantile_morpher import Quantiler, Integerizer\n",
    "from seqpred.nn import MargeNet\n",
    "\n",
    "with open(\"cfg/config.yaml\") as f:\n",
    "    config = yaml.load(f, Loader=yaml.CLoader)\n",
    "\n",
    "inputs = {\n",
    "    col: tp\n",
    "    for [col, tp] in config[\"features\"]\n",
    "}"
   ]
  },
  {
   "cell_type": "code",
   "execution_count": 2,
   "metadata": {},
   "outputs": [],
   "source": [
    "morpher_dispatch = {\n",
    "    \"numeric\": Quantiler,\n",
    "    \"categorical\": Integerizer,\n",
    "}\n",
    "\n",
    "morphers = load_morphers(\n",
    "    \"model/morphers.yaml\",\n",
    "    inputs,\n",
    "    morpher_dispatch,\n",
    ")\n",
    "\n",
    "net = MargeNet.load_from_checkpoint(\"model/latest.ckpt\")\n",
    "gen_head = net.generator_head\n",
    "\n",
    "# Set up data\n",
    "base_data, _ = prep_data(\n",
    "    data_files=[config[\"train_data_path\"]],\n",
    "    key_cols=config[\"keys\"],\n",
    "    morphers=morphers,\n",
    ")\n",
    "ds = BaseDataset(\n",
    "    base_data,\n",
    "    morphers,\n",
    "    key_cols=config[\"keys\"],\n",
    "    return_keys=False,\n",
    ")"
   ]
  },
  {
   "cell_type": "code",
   "execution_count": 36,
   "metadata": {},
   "outputs": [
    {
     "name": "stdout",
     "output_type": "stream",
     "text": [
      "76\n"
     ]
    }
   ],
   "source": [
    "i = 10000\n",
    "pitcher_id = base_data.row(i, named=True)[\"pitcher\"]\n",
    "pitcher = ds[i][\"pitcher\"].unsqueeze(0)\n",
    "\n",
    "print(pitcher_id)\n",
    "\n",
    "with torch.inference_mode():\n",
    "    # Generate the pitch\n",
    "    pitcher_embed = net.init_embedder(pitcher)\n",
    "    x = gen_head.activation(gen_head.norm(pitcher_embed))\n",
    "    pitch_dist = torch.softmax(gen_head.predictors[\"pitch_type\"](x), dim=-1)"
   ]
  },
  {
   "cell_type": "code",
   "execution_count": 37,
   "metadata": {},
   "outputs": [
    {
     "name": "stdout",
     "output_type": "stream",
     "text": [
      "{14: 0.21, 9: 0.305, 7: 0.115, 1: 0.32, 15: 0.05}\n"
     ]
    }
   ],
   "source": [
    "from collections import Counter\n",
    "n = 200\n",
    "pitches = []\n",
    "for _ in range(n):\n",
    "    pitch = torch.multinomial(pitch_dist.view(-1), 1)\n",
    "    pitches.append(pitch.item())\n",
    "\n",
    "generated_pitches = dict(Counter(pitches))\n",
    "print({k: v / n for k, v in generated_pitches.items()})"
   ]
  },
  {
   "cell_type": "code",
   "execution_count": 38,
   "metadata": {},
   "outputs": [
    {
     "data": {
      "text/html": [
       "<div><style>\n",
       ".dataframe > thead > tr,\n",
       ".dataframe > tbody > tr {\n",
       "  text-align: right;\n",
       "  white-space: pre-wrap;\n",
       "}\n",
       "</style>\n",
       "<small>shape: (6, 2)</small><table border=\"1\" class=\"dataframe\"><thead><tr><th>pitch_type</th><th>count</th></tr><tr><td>i64</td><td>f64</td></tr></thead><tbody><tr><td>14</td><td>0.176471</td></tr><tr><td>1</td><td>0.365472</td></tr><tr><td>9</td><td>0.280543</td></tr><tr><td>15</td><td>0.034807</td></tr><tr><td>11</td><td>0.000348</td></tr><tr><td>7</td><td>0.14236</td></tr></tbody></table></div>"
      ],
      "text/plain": [
       "shape: (6, 2)\n",
       "┌────────────┬──────────┐\n",
       "│ pitch_type ┆ count    │\n",
       "│ ---        ┆ ---      │\n",
       "│ i64        ┆ f64      │\n",
       "╞════════════╪══════════╡\n",
       "│ 14         ┆ 0.176471 │\n",
       "│ 1          ┆ 0.365472 │\n",
       "│ 9          ┆ 0.280543 │\n",
       "│ 15         ┆ 0.034807 │\n",
       "│ 11         ┆ 0.000348 │\n",
       "│ 7          ┆ 0.14236  │\n",
       "└────────────┴──────────┘"
      ]
     },
     "execution_count": 38,
     "metadata": {},
     "output_type": "execute_result"
    }
   ],
   "source": [
    "pp = base_data.filter(polars.col(\"pitcher\") == pitcher_id)[\"pitch_type\"]\n",
    "ratios = pp.value_counts()\n",
    "ratios.with_columns(count=polars.col(\"count\") / pp.count())"
   ]
  }
 ],
 "metadata": {
  "kernelspec": {
   "display_name": "cloudspace",
   "language": "python",
   "name": "python3"
  },
  "language_info": {
   "codemirror_mode": {
    "name": "ipython",
    "version": 3
   },
   "file_extension": ".py",
   "mimetype": "text/x-python",
   "name": "python",
   "nbconvert_exporter": "python",
   "pygments_lexer": "ipython3",
   "version": "3.10.10"
  }
 },
 "nbformat": 4,
 "nbformat_minor": 2
}
