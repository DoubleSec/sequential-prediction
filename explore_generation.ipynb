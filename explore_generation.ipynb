{
 "cells": [
  {
   "cell_type": "code",
   "execution_count": 1,
   "metadata": {},
   "outputs": [],
   "source": [
    "import yaml\n",
    "import torch\n",
    "import lightning.pytorch as pl\n",
    "import polars\n",
    "\n",
    "from seqpred.data import prep_data, BaseDataset, load_morphers\n",
    "from seqpred.quantile_morpher import Quantiler, Integerizer\n",
    "from seqpred.nn import MargeNet\n",
    "\n",
    "with open(\"cfg/config.yaml\") as f:\n",
    "    config = yaml.load(f, Loader=yaml.CLoader)\n",
    "\n",
    "inputs = {col: tp for [col, tp] in config[\"features\"]}"
   ]
  },
  {
   "cell_type": "code",
   "execution_count": 2,
   "metadata": {},
   "outputs": [],
   "source": [
    "morpher_dispatch = {\n",
    "    \"numeric\": Quantiler,\n",
    "    \"categorical\": Integerizer,\n",
    "}\n",
    "\n",
    "morphers = load_morphers(\n",
    "    \"model/morphers.yaml\",\n",
    "    inputs,\n",
    "    morpher_dispatch,\n",
    ")\n",
    "\n",
    "net = MargeNet.load_from_checkpoint(\"model/latest.ckpt\")\n",
    "gen_head = net.generator_head\n",
    "\n",
    "# Set up data\n",
    "base_data, _ = prep_data(\n",
    "    data_files=[config[\"train_data_path\"]],\n",
    "    key_cols=config[\"keys\"],\n",
    "    morphers=morphers,\n",
    ")\n",
    "ds = BaseDataset(\n",
    "    base_data,\n",
    "    morphers,\n",
    "    key_cols=config[\"keys\"],\n",
    "    return_keys=False,\n",
    ")"
   ]
  },
  {
   "cell_type": "code",
   "execution_count": 5,
   "metadata": {},
   "outputs": [
    {
     "name": "stdout",
     "output_type": "stream",
     "text": [
      "Context: 799 | 0\n"
     ]
    }
   ],
   "source": [
    "i = 500\n",
    "n = 256\n",
    "pitcher_id = base_data.row(i, named=True)[\"pitcher\"]\n",
    "stand_val = base_data.row(i, named=True)[\"stand\"]\n",
    "\n",
    "pitcher = ds[i][\"pitcher\"].unsqueeze(0).expand(n)\n",
    "stand = ds[i][\"stand\"].unsqueeze(0).expand(n)\n",
    "\n",
    "print(f\"Context: {pitcher_id} | {stand_val}\")\n",
    "\n",
    "with torch.inference_mode():\n",
    "    gen_pitches = net.generate(\n",
    "        {\"pitcher\": pitcher, \"stand\": stand},\n",
    "        morphers=morphers,\n",
    "    )\n",
    "    \n",
    "\n",
    "generated_df = polars.DataFrame(\n",
    "    {\n",
    "        feat: v.view(-1).numpy()\n",
    "        for feat, v in gen_pitches.items()\n",
    "    }\n",
    ")"
   ]
  },
  {
   "cell_type": "code",
   "execution_count": 6,
   "metadata": {},
   "outputs": [
    {
     "data": {
      "text/html": [
       "<div><style>\n",
       ".dataframe > thead > tr,\n",
       ".dataframe > tbody > tr {\n",
       "  text-align: right;\n",
       "  white-space: pre-wrap;\n",
       "}\n",
       "</style>\n",
       "<small>shape: (4, 5)</small><table border=\"1\" class=\"dataframe\"><thead><tr><th>pitch_type</th><th>count</th><th>avg_speed</th><th>avg_x</th><th>avg_z</th></tr><tr><td>i64</td><td>f64</td><td>f32</td><td>f32</td><td>f32</td></tr></thead><tbody><tr><td>0</td><td>0.003906</td><td>0.2578125</td><td>0.359375</td><td>0.0234375</td></tr><tr><td>2</td><td>0.46875</td><td>0.28457</td><td>0.391992</td><td>0.310221</td></tr><tr><td>4</td><td>0.3046875</td><td>0.595052</td><td>0.415865</td><td>0.721454</td></tr><tr><td>13</td><td>0.222656</td><td>0.408169</td><td>0.383635</td><td>0.469161</td></tr></tbody></table></div>"
      ],
      "text/plain": [
       "shape: (4, 5)\n",
       "┌────────────┬───────────┬───────────┬──────────┬───────────┐\n",
       "│ pitch_type ┆ count     ┆ avg_speed ┆ avg_x    ┆ avg_z     │\n",
       "│ ---        ┆ ---       ┆ ---       ┆ ---      ┆ ---       │\n",
       "│ i64        ┆ f64       ┆ f32       ┆ f32      ┆ f32       │\n",
       "╞════════════╪═══════════╪═══════════╪══════════╪═══════════╡\n",
       "│ 0          ┆ 0.003906  ┆ 0.2578125 ┆ 0.359375 ┆ 0.0234375 │\n",
       "│ 2          ┆ 0.46875   ┆ 0.28457   ┆ 0.391992 ┆ 0.310221  │\n",
       "│ 4          ┆ 0.3046875 ┆ 0.595052  ┆ 0.415865 ┆ 0.721454  │\n",
       "│ 13         ┆ 0.222656  ┆ 0.408169  ┆ 0.383635 ┆ 0.469161  │\n",
       "└────────────┴───────────┴───────────┴──────────┴───────────┘"
      ]
     },
     "metadata": {},
     "output_type": "display_data"
    },
    {
     "data": {
      "text/html": [
       "<div><style>\n",
       ".dataframe > thead > tr,\n",
       ".dataframe > tbody > tr {\n",
       "  text-align: right;\n",
       "  white-space: pre-wrap;\n",
       "}\n",
       "</style>\n",
       "<small>shape: (3, 5)</small><table border=\"1\" class=\"dataframe\"><thead><tr><th>pitch_type</th><th>count</th><th>avg_speed</th><th>avg_x</th><th>avg_z</th></tr><tr><td>i64</td><td>f64</td><td>f32</td><td>f32</td><td>f32</td></tr></thead><tbody><tr><td>2</td><td>0.537657</td><td>0.290522</td><td>0.338947</td><td>0.310494</td></tr><tr><td>4</td><td>0.278243</td><td>0.601151</td><td>0.406837</td><td>0.703125</td></tr><tr><td>13</td><td>0.1841</td><td>0.419389</td><td>0.42081</td><td>0.403232</td></tr></tbody></table></div>"
      ],
      "text/plain": [
       "shape: (3, 5)\n",
       "┌────────────┬──────────┬───────────┬──────────┬──────────┐\n",
       "│ pitch_type ┆ count    ┆ avg_speed ┆ avg_x    ┆ avg_z    │\n",
       "│ ---        ┆ ---      ┆ ---       ┆ ---      ┆ ---      │\n",
       "│ i64        ┆ f64      ┆ f32       ┆ f32      ┆ f32      │\n",
       "╞════════════╪══════════╪═══════════╪══════════╪══════════╡\n",
       "│ 2          ┆ 0.537657 ┆ 0.290522  ┆ 0.338947 ┆ 0.310494 │\n",
       "│ 4          ┆ 0.278243 ┆ 0.601151  ┆ 0.406837 ┆ 0.703125 │\n",
       "│ 13         ┆ 0.1841   ┆ 0.419389  ┆ 0.42081  ┆ 0.403232 │\n",
       "└────────────┴──────────┴───────────┴──────────┴──────────┘"
      ]
     },
     "metadata": {},
     "output_type": "display_data"
    }
   ],
   "source": [
    "gen_dist = generated_df.group_by([\"pitch_type\"]).agg(\n",
    "    count = polars.col(\"release_speed\").count() / len(generated_df),\n",
    "    avg_speed = polars.col(\"release_speed\").mean(),\n",
    "    avg_x = polars.col(\"plate_x\").mean(),\n",
    "    avg_z = polars.col(\"plate_z\").mean(),\n",
    ").sort(\"pitch_type\")\n",
    "\n",
    "pp = base_data.filter(\n",
    "    polars.col(\"pitcher\") == pitcher_id,\n",
    "    polars.col(\"stand\") == stand_val,\n",
    ")\n",
    "real_dist = pp.group_by([\"pitch_type\"]).agg(\n",
    "    count = polars.col(\"release_speed\").count() / len(pp),\n",
    "    avg_speed = polars.col(\"release_speed\").mean(),\n",
    "    avg_x = polars.col(\"plate_x\").mean(),\n",
    "    avg_z = polars.col(\"plate_z\").mean(),\n",
    ").sort(\"pitch_type\")\n",
    "\n",
    "display(gen_dist)\n",
    "display(real_dist)"
   ]
  },
  {
   "cell_type": "code",
   "execution_count": null,
   "metadata": {},
   "outputs": [],
   "source": []
  }
 ],
 "metadata": {
  "kernelspec": {
   "display_name": "cloudspace",
   "language": "python",
   "name": "python3"
  },
  "language_info": {
   "codemirror_mode": {
    "name": "ipython",
    "version": 3
   },
   "file_extension": ".py",
   "mimetype": "text/x-python",
   "name": "python",
   "nbconvert_exporter": "python",
   "pygments_lexer": "ipython3",
   "version": "3.10.10"
  }
 },
 "nbformat": 4,
 "nbformat_minor": 2
}
