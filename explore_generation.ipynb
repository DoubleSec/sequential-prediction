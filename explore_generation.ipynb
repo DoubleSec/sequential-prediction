{
 "cells": [
  {
   "cell_type": "code",
   "execution_count": 2,
   "metadata": {},
   "outputs": [],
   "source": [
    "import yaml\n",
    "import torch\n",
    "import lightning.pytorch as pl\n",
    "import polars\n",
    "\n",
    "from seqpred.data import prep_data, BaseDataset, load_morphers\n",
    "from seqpred.quantile_morpher import Quantiler, Integerizer\n",
    "from seqpred.nn import MargeNet\n",
    "\n",
    "with open(\"cfg/config.yaml\") as f:\n",
    "    config = yaml.load(f, Loader=yaml.CLoader)\n",
    "\n",
    "inputs = {\n",
    "    col: tp\n",
    "    for [col, tp] in config[\"features\"]\n",
    "}"
   ]
  },
  {
   "cell_type": "code",
   "execution_count": 16,
   "metadata": {},
   "outputs": [],
   "source": [
    "def choose_options(p):\n",
    "    # p is n x k\n",
    "    agg_p = p.cumsum(dim=1)\n",
    "    rand = torch.rand(agg_p.shape[0], 1).to(agg_p)\n",
    "    p_arrays = torch.cat([agg_p, rand], dim=1)\n",
    "    # n x 1\n",
    "    ranks = torch.argsort(torch.argsort(p_arrays, dim=-1), dim=-1)\n",
    "    choices = ranks[:, -1]\n",
    "    return choices"
   ]
  },
  {
   "cell_type": "code",
   "execution_count": 4,
   "metadata": {},
   "outputs": [],
   "source": [
    "morpher_dispatch = {\n",
    "    \"numeric\": Quantiler,\n",
    "    \"categorical\": Integerizer,\n",
    "}\n",
    "\n",
    "morphers = load_morphers(\n",
    "    \"model/morphers.yaml\",\n",
    "    inputs,\n",
    "    morpher_dispatch,\n",
    ")\n",
    "\n",
    "net = MargeNet.load_from_checkpoint(\"model/latest.ckpt\")\n",
    "gen_head = net.generator_head\n",
    "\n",
    "# Set up data\n",
    "base_data, _ = prep_data(\n",
    "    data_files=[config[\"train_data_path\"]],\n",
    "    key_cols=config[\"keys\"],\n",
    "    morphers=morphers,\n",
    ")\n",
    "ds = BaseDataset(\n",
    "    base_data,\n",
    "    morphers,\n",
    "    key_cols=config[\"keys\"],\n",
    "    return_keys=False,\n",
    ")"
   ]
  },
  {
   "cell_type": "code",
   "execution_count": 53,
   "metadata": {},
   "outputs": [
    {
     "name": "stdout",
     "output_type": "stream",
     "text": [
      "375\n"
     ]
    }
   ],
   "source": [
    "i = 100_000\n",
    "n = 256\n",
    "pitcher_id = base_data.row(i, named=True)[\"pitcher\"]\n",
    "pitcher = ds[i][\"pitcher\"].unsqueeze(0).expand(n)\n",
    "\n",
    "print(pitcher_id)\n",
    "\n",
    "with torch.inference_mode():\n",
    "    # Generate the pitch\n",
    "    pitcher_embed = net.init_embedder(pitcher)\n",
    "    x = gen_head.activation(gen_head.norm(pitcher_embed))\n",
    "\n",
    "    pitch_dist = torch.softmax(gen_head.predictors[\"pitch_type\"](x), dim=-1)\n",
    "    pitches = choose_options(pitch_dist)\n",
    "    pitch_embeddings = gen_head.embedders[\"pitch_type\"](pitches)\n",
    "\n",
    "    combined_embeddings = pitcher_embed + pitch_embeddings\n",
    "    x = gen_head.activation(gen_head.norm(combined_embeddings))\n",
    "    velo_dist = torch.softmax(gen_head.predictors[\"release_speed\"](x), dim=-1)\n",
    "    velo = choose_options(velo_dist)\n",
    "\n",
    "generated_df = polars.DataFrame(\n",
    "    {\n",
    "        \"pitch\": pitches.view(-1).numpy(),\n",
    "        \"velo\": velo.view(-1).numpy() / 128,\n",
    "    }\n",
    ")"
   ]
  },
  {
   "cell_type": "code",
   "execution_count": 54,
   "metadata": {},
   "outputs": [
    {
     "data": {
      "text/html": [
       "<div><style>\n",
       ".dataframe > thead > tr,\n",
       ".dataframe > tbody > tr {\n",
       "  text-align: right;\n",
       "  white-space: pre-wrap;\n",
       "}\n",
       "</style>\n",
       "<small>shape: (5, 5)</small><table border=\"1\" class=\"dataframe\"><thead><tr><th>pitch</th><th>count</th><th>avg_speed</th><th>min_speed</th><th>max_speed</th></tr><tr><td>i64</td><td>f64</td><td>f64</td><td>f64</td><td>f64</td></tr></thead><tbody><tr><td>1</td><td>0.316406</td><td>0.800733</td><td>0.03125</td><td>0.9765625</td></tr><tr><td>4</td><td>0.125</td><td>0.752441</td><td>0.015625</td><td>0.9765625</td></tr><tr><td>7</td><td>0.128906</td><td>0.083333</td><td>0.0078125</td><td>0.9609375</td></tr><tr><td>10</td><td>0.2421875</td><td>0.467868</td><td>0.015625</td><td>0.9765625</td></tr><tr><td>16</td><td>0.1875</td><td>0.246582</td><td>0.0078125</td><td>0.9765625</td></tr></tbody></table></div>"
      ],
      "text/plain": [
       "shape: (5, 5)\n",
       "┌───────┬───────────┬───────────┬───────────┬───────────┐\n",
       "│ pitch ┆ count     ┆ avg_speed ┆ min_speed ┆ max_speed │\n",
       "│ ---   ┆ ---       ┆ ---       ┆ ---       ┆ ---       │\n",
       "│ i64   ┆ f64       ┆ f64       ┆ f64       ┆ f64       │\n",
       "╞═══════╪═══════════╪═══════════╪═══════════╪═══════════╡\n",
       "│ 1     ┆ 0.316406  ┆ 0.800733  ┆ 0.03125   ┆ 0.9765625 │\n",
       "│ 4     ┆ 0.125     ┆ 0.752441  ┆ 0.015625  ┆ 0.9765625 │\n",
       "│ 7     ┆ 0.128906  ┆ 0.083333  ┆ 0.0078125 ┆ 0.9609375 │\n",
       "│ 10    ┆ 0.2421875 ┆ 0.467868  ┆ 0.015625  ┆ 0.9765625 │\n",
       "│ 16    ┆ 0.1875    ┆ 0.246582  ┆ 0.0078125 ┆ 0.9765625 │\n",
       "└───────┴───────────┴───────────┴───────────┴───────────┘"
      ]
     },
     "metadata": {},
     "output_type": "display_data"
    },
    {
     "data": {
      "text/html": [
       "<div><style>\n",
       ".dataframe > thead > tr,\n",
       ".dataframe > tbody > tr {\n",
       "  text-align: right;\n",
       "  white-space: pre-wrap;\n",
       "}\n",
       "</style>\n",
       "<small>shape: (5, 5)</small><table border=\"1\" class=\"dataframe\"><thead><tr><th>pitch_type</th><th>count</th><th>avg_speed</th><th>min_speed</th><th>max_speed</th></tr><tr><td>i64</td><td>f64</td><td>f32</td><td>f32</td><td>f32</td></tr></thead><tbody><tr><td>1</td><td>0.347468</td><td>0.818495</td><td>0.609375</td><td>0.96875</td></tr><tr><td>4</td><td>0.107993</td><td>0.791578</td><td>0.578125</td><td>0.9375</td></tr><tr><td>7</td><td>0.11989</td><td>0.160862</td><td>0.046875</td><td>0.3203125</td></tr><tr><td>10</td><td>0.211104</td><td>0.434745</td><td>0.296875</td><td>0.5859375</td></tr><tr><td>16</td><td>0.213545</td><td>0.245547</td><td>0.0703125</td><td>0.453125</td></tr></tbody></table></div>"
      ],
      "text/plain": [
       "shape: (5, 5)\n",
       "┌────────────┬──────────┬───────────┬───────────┬───────────┐\n",
       "│ pitch_type ┆ count    ┆ avg_speed ┆ min_speed ┆ max_speed │\n",
       "│ ---        ┆ ---      ┆ ---       ┆ ---       ┆ ---       │\n",
       "│ i64        ┆ f64      ┆ f32       ┆ f32       ┆ f32       │\n",
       "╞════════════╪══════════╪═══════════╪═══════════╪═══════════╡\n",
       "│ 1          ┆ 0.347468 ┆ 0.818495  ┆ 0.609375  ┆ 0.96875   │\n",
       "│ 4          ┆ 0.107993 ┆ 0.791578  ┆ 0.578125  ┆ 0.9375    │\n",
       "│ 7          ┆ 0.11989  ┆ 0.160862  ┆ 0.046875  ┆ 0.3203125 │\n",
       "│ 10         ┆ 0.211104 ┆ 0.434745  ┆ 0.296875  ┆ 0.5859375 │\n",
       "│ 16         ┆ 0.213545 ┆ 0.245547  ┆ 0.0703125 ┆ 0.453125  │\n",
       "└────────────┴──────────┴───────────┴───────────┴───────────┘"
      ]
     },
     "metadata": {},
     "output_type": "display_data"
    }
   ],
   "source": [
    "gen_dist = generated_df.group_by([\"pitch\"]).agg(\n",
    "    count = polars.col(\"velo\").count() / len(generated_df),\n",
    "    avg_speed = polars.col(\"velo\").mean(),\n",
    "    min_speed = polars.col(\"velo\").min(),\n",
    "    max_speed = polars.col(\"velo\").max(),\n",
    ").sort(\"pitch\")\n",
    "\n",
    "pp = base_data.filter(polars.col(\"pitcher\") == pitcher_id)\n",
    "real_dist = pp.group_by([\"pitch_type\"]).agg(\n",
    "    count = polars.col(\"release_speed\").count() / len(pp),\n",
    "    avg_speed = polars.col(\"release_speed\").mean(),\n",
    "    min_speed = polars.col(\"release_speed\").min(),\n",
    "    max_speed = polars.col(\"release_speed\").max(),\n",
    ").sort(\"pitch_type\")\n",
    "\n",
    "display(gen_dist)\n",
    "display(real_dist)"
   ]
  }
 ],
 "metadata": {
  "kernelspec": {
   "display_name": "cloudspace",
   "language": "python",
   "name": "python3"
  },
  "language_info": {
   "codemirror_mode": {
    "name": "ipython",
    "version": 3
   },
   "file_extension": ".py",
   "mimetype": "text/x-python",
   "name": "python",
   "nbconvert_exporter": "python",
   "pygments_lexer": "ipython3",
   "version": "3.10.10"
  }
 },
 "nbformat": 4,
 "nbformat_minor": 2
}
